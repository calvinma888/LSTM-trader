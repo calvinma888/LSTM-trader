{
 "cells": [
  {
   "cell_type": "code",
   "execution_count": 1,
   "metadata": {},
   "outputs": [],
   "source": [
    "import pandas as pd\n",
    "import numpy as np\n",
    "import urllib.request"
   ]
  },
  {
   "cell_type": "code",
   "execution_count": 2,
   "metadata": {},
   "outputs": [],
   "source": [
    "# https://www.alphavantage.co/query?function=TIME_SERIES_INTRADAY_EXTENDED&symbol=IBM&interval=1min&slice=year1month1&apikey=ZSI2SDPFLY6MJKVC\n",
    "\n",
    "apikey = \"ZSI2SDPFLY6MJKVC\""
   ]
  },
  {
   "cell_type": "code",
   "execution_count": 3,
   "metadata": {},
   "outputs": [],
   "source": [
    "yearlist = []\n",
    "for j in range(1,3):\n",
    "    for i in range(1,13):\n",
    "        yearlist.append(\"year\"+str(j)+\"month\"+str(i))"
   ]
  },
  {
   "cell_type": "code",
   "execution_count": 4,
   "metadata": {},
   "outputs": [
    {
     "data": {
      "text/plain": [
       "['year1month1',\n",
       " 'year1month2',\n",
       " 'year1month3',\n",
       " 'year1month4',\n",
       " 'year1month5',\n",
       " 'year1month6',\n",
       " 'year1month7',\n",
       " 'year1month8',\n",
       " 'year1month9',\n",
       " 'year1month10',\n",
       " 'year1month11',\n",
       " 'year1month12',\n",
       " 'year2month1',\n",
       " 'year2month2',\n",
       " 'year2month3',\n",
       " 'year2month4',\n",
       " 'year2month5',\n",
       " 'year2month6',\n",
       " 'year2month7',\n",
       " 'year2month8',\n",
       " 'year2month9',\n",
       " 'year2month10',\n",
       " 'year2month11',\n",
       " 'year2month12']"
      ]
     },
     "execution_count": 4,
     "metadata": {},
     "output_type": "execute_result"
    }
   ],
   "source": [
    "yearlist"
   ]
  },
  {
   "cell_type": "code",
   "execution_count": 5,
   "metadata": {},
   "outputs": [],
   "source": [
    "# symbols = ['AAPL','MSFT','AMZN','FB','GOOGL','GOOG','BRK/B','JNJ','PG','NVDA','UNH','V','JPM','HD','MA','VZ','PYPL','ADBE','CRM','DIS','NFLX','TMO','MRK','PFE','CMCSA','ABT','WMT','T','INTC','PEP','KO','BAC','COST','ABBV','QCOM','NKE','MCD','CSCO','AVGO','DHR','ACN','NEE','BMY','TXN','XOM','MDT','CVX','AMGN','LIN','UNP','HON','LOW','LLY','UPS','PM','ORCL','AMT','SBUX','IBM','NOW','AMD','CHTR','BLK','MMM','WFC','INTU','LMT','C','RTX','CAT','SPGI','ISRG','BA','FIS','ZTS','ANTM','CVS','MDLZ','TGT','CI','PLD','DE','GILD','MS','BKNG','CL','ADP','GS','D','GE','MO','DUK','EQIX','SYK','TMUS','CCI','BDX','FDX','APD','CSX','TJX','AXP','AMAT','SO','ATVI','CB','REGN','SCHW','MU','TFC','ITW','SHW','HUM','LRCX','NSC','VRTX','PGR','FISV','ICE','ADSK','USB','MMC','NEM','DG','CME','EL','GPN','BIIB','BSX','PNC','ECL','EW','ADI','NOC','MCO','GM','WM','KMB','ILMN','AEP','DD','ETN','AON','EMR','EXC','CTSH','ROP','IDXX','DLR','CNC','BAX','LHX','XEL','EA','SRE','CMG','GIS','SNPS','HCA','DOW','COF','KLAC','APH','ALGN','PSA','MSCI','CDNS','TEL','TWTR','SBAC','A','DXCM','CMI','ROST','TT','ORLY','INFO','IQV','EBAY','PPG','JCI','COP','TRV','GD','WEC','BLL','MET','XLNX','VRSK','TROW','PCAR','F','ES','CARR','SYY','MNST','STZ','PH','YUM','RMD','MCHP','PEG','CTAS','ROK','AIG','BK','ZBH','AWK','SWK','APTV','ALL','TDG','ANSS','BBY','PAYX','ALXN','MSI','FCX','WBA','AZO','MAR','MCK','CLX','ADM','MTD','ED','FAST','HPQ','GLW','HLT','PRU','KR','CPRT','CTVA','OTIS','SWKS','AFL','AME','LUV','DHI','DTE','WLTW','WELL','KMI','WMB','MKC','FTV','VFC','EIX','DLTR','STT','CERN','CHD','MKTX','WST','LEN','PPL','FRC','SLB','HSY','WY','ETR','PSX','VRSN','DFS','AJG','MXIM','AMP','LH','KEYS','EOG','AVB','MPC','KHC','DAL','FLT','RSG','AEE','O','HOLX','CDW','ODFL','SPG','LYB','TTWO','ARE','IP','PAYC','CMS','EFX','AMCR','ZBRA','VMC','EQR','CBRE','VIAC','CAG','KSU','LVS','ETSY','GWW','FITB','DOV','TSN','DGX','NTRS','CTLT','QRVO','AKAM','BR','TER','TYL','GRMN','COO','XYL','VLO','MLM','TSCO','SIVB','FTNT','K','FE','INCY','VAR','TFX','CAH','ABC','PEAK','POOL','KMX','NDAQ','DPZ','PKI','STE','VTR','MAS','DRE','NVR','SYF','IR','ESS','CTXS','NUE','EXR','EXPD','HIG','CE','FMC','MAA','TIF','EXPE','GPC','ANET','AES','HRL','BF/B','URI','WAT','BIO','MTB','IEX','DRI','RF','PXD','LNT','SJM','NLOK','IT','KEY','J','OKE','EVRG','WHR','CNP','TDY','PHM','CFG','FBHS','AVY','ABMD','LDOS','ULTA','HPE','CHRW','EMN','STX','JKHY','PKG','IFF','WDC','ATO','ALB','WAB','CINF','PFG','HAL','AAP','HBAN','RCL','OMC','HAS','BXP','JBHT','NTAP','UAL','BKR','XRAY','HES','WRK','UDR','LW','RJF','LKQ','CPB','ALLE','PNW','UHS','FOXA','BWA','CBOE','PNR','L','MGM','TXT','PWR','ROL','LUMN','SNA','WRB','HSIC','OXY','NI','CXO','WU','RE','GL','FFIV','LYV','IRM','NRG','MYL','AIZ','HST','WYNN','LB','IPG','NWL','DVA','CCL','MHK','HWM','AOS','TAP','IPGP','JNPR','TPR','DISH','SEE','COG','LNC','CMA','HII','PRGO','DISCK','RHI','MOS','CF','AAL','REG','LEG','BEN','IVZ','ZION','NWSA','VNO','FRT','DXC','NLSN','ALK','FLIR','PBCT','HBI','PVH','NCLH','KIM','GPS','FANG','FOX','FLS','VNT','AIV','UNM','DVN','NOV','XRX','RL','MRO','DISCA','APA','SLG','HFC','UAA','UA','FTI','NWS']"
   ]
  },
  {
   "cell_type": "code",
   "execution_count": 6,
   "metadata": {},
   "outputs": [],
   "source": [
    "# symbols = [\"BRK\",\"QCOM\",\"TXN\",\"HON\",\"ORCL\",\"MO\",\"DUK\", \"AEP\",\"DD\",\"SBAC\",\"ALL\",\"PAYX\",\"HPQ\",\"VFC\",\"FRC\",'KHC','DAL','FLT','RSG','AEE','O','HOLX','CDW','ODFL','SPG','LYB','TTWO','ARE','IP','PAYC','CMS','EFX','AMCR','ZBRA','VMC','EQR','CBRE','VIAC','CAG','KSU','LVS','ETSY','GWW','FITB','DOV','TSN','DGX','NTRS','CTLT','QRVO','AKAM','BR','TER','TYL','GRMN','COO','XYL','VLO','MLM','TSCO','SIVB','FTNT','K','FE','INCY','VAR','TFX','CAH','ABC','PEAK','POOL','KMX','NDAQ','DPZ','PKI','STE','VTR','MAS','DRE','NVR','SYF','IR','ESS','CTXS','NUE','EXR','EXPD','HIG','CE','FMC','MAA','TIF','EXPE','GPC','ANET','AES','HRL','BF/B','URI','WAT','BIO','MTB','IEX','DRI','RF','PXD','LNT','SJM','NLOK','IT','KEY','J','OKE','EVRG','WHR','CNP','TDY','PHM','CFG','FBHS','AVY','ABMD','LDOS','ULTA','HPE','CHRW','EMN','STX','JKHY','PKG','IFF','WDC','ATO','ALB','WAB','CINF','PFG','HAL','AAP','HBAN','RCL','OMC','HAS','BXP','JBHT','NTAP','UAL','BKR','XRAY','HES','WRK','UDR','LW','RJF','LKQ','CPB','ALLE','PNW','UHS','FOXA','BWA','CBOE','PNR','L','MGM','TXT','PWR','ROL','LUMN','SNA','WRB','HSIC','OXY','NI','CXO','WU','RE','GL','FFIV','LYV','IRM','NRG','MYL','AIZ','HST','WYNN','LB','IPG','NWL','DVA','CCL','MHK','HWM','AOS','TAP','IPGP','JNPR','TPR','DISH','SEE','COG','LNC','CMA','HII','PRGO','DISCK','RHI','MOS','CF','AAL','REG','LEG','BEN','IVZ','ZION','NWSA','VNO','FRT','DXC','NLSN','ALK','FLIR','PBCT','HBI','PVH','NCLH','KIM','GPS','FANG','FOX','FLS','VNT','AIV','UNM','DVN','NOV','XRX','RL','MRO','DISCA','APA','SLG','HFC','UAA','UA','FTI','NWS']"
   ]
  },
  {
   "cell_type": "code",
   "execution_count": 9,
   "metadata": {},
   "outputs": [],
   "source": [
    "# BRK PRoblem\n",
    "symbols = ['SPY','QQQ','XLK','XLV']"
   ]
  },
  {
   "cell_type": "code",
   "execution_count": null,
   "metadata": {},
   "outputs": [],
   "source": [
    "import os\n",
    "\n",
    "for symb in symbols:\n",
    "    for time in yearlist:\n",
    "        urllib.request.urlretrieve(\"https://www.alphavantage.co/query?function=TIME_SERIES_INTRADAY_EXTENDED&symbol=\"+symb+\"&interval=1min&slice=\"+time+\"&apikey=\"+str(apikey),symb+time+\".csv\")\n",
    "    df0 = pd.read_csv(symb+yearlist[0]+\".csv\")\n",
    "    df1 = pd.read_csv(symb+yearlist[1]+\".csv\")\n",
    "    df2 = pd.read_csv(symb+yearlist[2]+\".csv\")\n",
    "    df3 = pd.read_csv(symb+yearlist[3]+\".csv\")\n",
    "    df4 = pd.read_csv(symb+yearlist[4]+\".csv\")\n",
    "    df5 = pd.read_csv(symb+yearlist[5]+\".csv\")\n",
    "    df6 = pd.read_csv(symb+yearlist[6]+\".csv\")\n",
    "    df7 = pd.read_csv(symb+yearlist[7]+\".csv\")\n",
    "    df8 = pd.read_csv(symb+yearlist[8]+\".csv\")\n",
    "    df9 = pd.read_csv(symb+yearlist[9]+\".csv\")\n",
    "    df10 = pd.read_csv(symb+yearlist[10]+\".csv\")\n",
    "    df11 = pd.read_csv(symb+yearlist[11]+\".csv\")\n",
    "    df12 = pd.read_csv(symb+yearlist[12]+\".csv\")\n",
    "    df13 = pd.read_csv(symb+yearlist[13]+\".csv\")\n",
    "    df14 = pd.read_csv(symb+yearlist[14]+\".csv\")\n",
    "    df15 = pd.read_csv(symb+yearlist[15]+\".csv\")\n",
    "    df16 = pd.read_csv(symb+yearlist[16]+\".csv\")\n",
    "    df17 = pd.read_csv(symb+yearlist[17]+\".csv\")\n",
    "    df18 = pd.read_csv(symb+yearlist[18]+\".csv\")\n",
    "    df19 = pd.read_csv(symb+yearlist[19]+\".csv\")\n",
    "    df20 = pd.read_csv(symb+yearlist[20]+\".csv\")\n",
    "    df21 = pd.read_csv(symb+yearlist[21]+\".csv\")\n",
    "    df22 = pd.read_csv(symb+yearlist[22]+\".csv\")\n",
    "    df23 = pd.read_csv(symb+yearlist[23]+\".csv\")\n",
    "    \n",
    "    \n",
    "    vertical_stack = pd.concat([df0, df1], axis=0)\n",
    "    vertical_stack2 = pd.concat([vertical_stack, df2], axis=0)\n",
    "    vertical_stack3 = pd.concat([vertical_stack2, df3], axis=0)\n",
    "    vertical_stack4 = pd.concat([vertical_stack3, df4], axis=0)\n",
    "    vertical_stack5 = pd.concat([vertical_stack4, df5], axis=0)\n",
    "    vertical_stack6 = pd.concat([vertical_stack5, df6], axis=0)\n",
    "    vertical_stack7 = pd.concat([vertical_stack6, df7], axis=0)\n",
    "    vertical_stack8 = pd.concat([vertical_stack7, df8], axis=0)\n",
    "    vertical_stack9 = pd.concat([vertical_stack8, df9], axis=0)\n",
    "    vertical_stack10 = pd.concat([vertical_stack9, df10], axis=0)\n",
    "    vertical_stack11 = pd.concat([vertical_stack10, df11], axis=0)\n",
    "    vertical_stack12 = pd.concat([vertical_stack11, df12], axis=0)\n",
    "    vertical_stack13 = pd.concat([vertical_stack12, df13], axis=0)\n",
    "    vertical_stack14 = pd.concat([vertical_stack13, df14], axis=0)\n",
    "    vertical_stack15 = pd.concat([vertical_stack14, df15], axis=0)\n",
    "    vertical_stack16 = pd.concat([vertical_stack15, df16], axis=0)\n",
    "    vertical_stack17 = pd.concat([vertical_stack16, df17], axis=0)\n",
    "    vertical_stack18 = pd.concat([vertical_stack17, df18], axis=0)\n",
    "    vertical_stack19 = pd.concat([vertical_stack18, df19], axis=0)\n",
    "    vertical_stack20 = pd.concat([vertical_stack19, df20], axis=0)\n",
    "    vertical_stack21 = pd.concat([vertical_stack20, df21], axis=0)\n",
    "    vertical_stack22 = pd.concat([vertical_stack21, df22], axis=0)\n",
    "    vertical_stack23 = pd.concat([vertical_stack22, df23], axis=0)\n",
    "    \n",
    "    vertical_stack23.to_csv(symb+'.csv')\n",
    "    \n",
    "    for i in range(24):\n",
    "        os.remove(symb+yearlist[i]+\".csv\")\n",
    "\n",
    "    "
   ]
  },
  {
   "cell_type": "code",
   "execution_count": null,
   "metadata": {},
   "outputs": [],
   "source": []
  }
 ],
 "metadata": {
  "kernelspec": {
   "display_name": "Python 3",
   "language": "python",
   "name": "python3"
  },
  "language_info": {
   "codemirror_mode": {
    "name": "ipython",
    "version": 3
   },
   "file_extension": ".py",
   "mimetype": "text/x-python",
   "name": "python",
   "nbconvert_exporter": "python",
   "pygments_lexer": "ipython3",
   "version": "3.7.4"
  }
 },
 "nbformat": 4,
 "nbformat_minor": 2
}
