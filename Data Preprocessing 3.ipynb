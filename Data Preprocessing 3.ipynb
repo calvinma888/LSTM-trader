{
 "cells": [
  {
   "cell_type": "code",
   "execution_count": 18,
   "metadata": {},
   "outputs": [],
   "source": [
    "symbols = ['AAPL','MSFT','AMZN','FB','GOOGL','GOOG','JNJ','PG','NVDA','UNH','V','JPM','HD','MA','VZ','PYPL','ADBE','CRM','DIS','NFLX','TMO','MRK','PFE','CMCSA','ABT','WMT','T','INTC','PEP','KO','BAC','COST','ABBV','QCOM','NKE','MCD','CSCO','AVGO','DHR','ACN','NEE','BMY','TXN','XOM','MDT','CVX','AMGN','LIN','UNP','HON','LOW','LLY','UPS','PM','ORCL','AMT','SBUX','IBM','NOW','AMD','CHTR','BLK','MMM','WFC','INTU','LMT','C','RTX','CAT','SPGI','ISRG','BA','FIS','ZTS','ANTM','CVS','MDLZ','TGT','CI','PLD','DE','GILD','MS','BKNG','CL','ADP','GS','D','GE','MO','DUK','EQIX','SYK','TMUS','CCI','BDX','FDX','APD','CSX','TJX','AXP','AMAT','SO','ATVI','CB','REGN','SCHW','MU','TFC','ITW','SHW','HUM','LRCX','NSC','VRTX','PGR','FISV','ICE','ADSK','USB','MMC','NEM','DG','CME','EL','GPN','BIIB','BSX','PNC','ECL','EW','ADI','NOC','MCO','GM','WM','KMB','ILMN','AEP','DD','ETN','AON','EMR','EXC','CTSH','ROP','IDXX','DLR','CNC','BAX','LHX','XEL','EA','SRE','CMG','GIS','SNPS','HCA','DOW','COF','KLAC','APH','ALGN','PSA','MSCI','CDNS','TEL','TWTR','SBAC','A','DXCM','CMI','ROST','TT','ORLY','INFO','IQV','EBAY','PPG','JCI','COP','TRV','GD','WEC','BLL','MET','XLNX','VRSK','TROW','PCAR','F','ES','CARR','SYY','MNST','STZ','PH','YUM','RMD','MCHP','PEG','CTAS','ROK','AIG','BK','ZBH','AWK','SWK','APTV','ALL','TDG','ANSS','BBY','PAYX','ALXN','MSI','FCX','WBA','AZO','MAR','MCK','CLX','ADM','MTD','ED','FAST','HPQ','GLW','HLT','PRU','KR','CPRT','CTVA','OTIS','SWKS','AFL','AME','LUV','DHI','DTE','WLTW','WELL','KMI','WMB','MKC','FTV','VFC','EIX','DLTR','STT','CERN','CHD','MKTX','WST','LEN','PPL','FRC','SLB','HSY','WY','ETR','PSX','VRSN','DFS','AJG','MXIM','AMP','LH','KEYS','EOG','AVB','MPC','KHC','DAL','FLT','RSG','AEE','O','HOLX','CDW','ODFL','SPG','LYB','TTWO','ARE','IP','PAYC','CMS','EFX','AMCR','ZBRA','VMC','EQR','CBRE','VIAC','CAG','KSU','LVS','ETSY','GWW','FITB','DOV','TSN','DGX','NTRS','CTLT','QRVO','AKAM','BR','TER','TYL','GRMN','COO','XYL','VLO','MLM','TSCO','SIVB','FTNT','K','FE','INCY','VAR','TFX','CAH','ABC','PEAK','POOL','KMX','NDAQ','DPZ','PKI','STE','VTR','MAS','DRE','NVR','SYF','IR','ESS','CTXS','NUE','EXR','EXPD','HIG','CE','FMC','MAA','TIF','EXPE','GPC','ANET','AES','HRL','URI','WAT','BIO','MTB','IEX','DRI','RF','PXD','LNT','SJM','NLOK','IT','KEY','J','OKE','EVRG','WHR','CNP','TDY','PHM','CFG','FBHS','AVY','ABMD','LDOS','ULTA','HPE','CHRW','EMN','STX','JKHY','PKG','IFF','WDC','ATO','ALB','WAB','CINF','PFG','HAL','AAP','HBAN','RCL','OMC','HAS','BXP','JBHT','NTAP','UAL','BKR','XRAY','HES','WRK','UDR','LW','RJF','LKQ','CPB','ALLE','PNW','UHS','FOXA','BWA','CBOE','PNR','L','MGM','TXT','PWR','ROL','LUMN','SNA','WRB','HSIC','OXY','NI','CXO','WU','RE','GL','FFIV','LYV','IRM','NRG','MYL','AIZ','HST','WYNN','LB','IPG','NWL','DVA','CCL','MHK','HWM','AOS','TAP','IPGP','JNPR','TPR','DISH','SEE','COG','LNC','CMA','HII','PRGO','DISCK','RHI','MOS','CF','AAL','REG','LEG','BEN','IVZ','ZION','NWSA','VNO','FRT','DXC','NLSN','ALK','FLIR','PBCT','HBI','PVH','NCLH','KIM','GPS','FANG','FOX','FLS','VNT','AIV','UNM','DVN','NOV','XRX','RL','MRO','DISCA','APA','SLG','HFC','UAA','UA','FTI','NWS']"
   ]
  },
  {
   "cell_type": "code",
   "execution_count": 19,
   "metadata": {},
   "outputs": [],
   "source": [
    "import pandas as pd\n",
    "import numpy as np\n",
    "import random\n",
    "import yfinance as yf\n",
    "from ta import add_all_ta_features"
   ]
  },
  {
   "cell_type": "code",
   "execution_count": 21,
   "metadata": {},
   "outputs": [],
   "source": [
    "# Select 10 random stocks from the S&P 500 universe\n",
    "ten_rands = [random.randint(0, len(symbols)) for x in range(20)]\n",
    "ten_rands2 = sorted(list(set(ten_rands)))[:10]"
   ]
  },
  {
   "cell_type": "code",
   "execution_count": 23,
   "metadata": {},
   "outputs": [
    {
     "name": "stdout",
     "output_type": "stream",
     "text": [
      "['INTC', 'FIS', 'DUK', 'ATVI', 'BLL', 'PEG', 'AZO', 'ED', 'CAG', 'QRVO']\n"
     ]
    }
   ],
   "source": [
    "symbols2 = []\n",
    "for i in range(10):\n",
    "    symbols2.append(symbols[ten_rands2[i]])\n",
    "print (symbols2)"
   ]
  },
  {
   "cell_type": "code",
   "execution_count": 24,
   "metadata": {},
   "outputs": [],
   "source": [
    "total= []\n",
    "for i in range(len(symbols2)):\n",
    "    temp = pd.read_csv(symbols2[i]+\".csv\")\n",
    "    new_df = add_all_ta_features(\n",
    "temp, open=\"open\", high=\"high\", low=\"low\", close=\"close\", volume=\"volume\")\n",
    "    temp = temp.rename(columns=lambda s: symbols2[i]+\"_\"+s)\n",
    "    total.append(temp)\n",
    "\n"
   ]
  },
  {
   "cell_type": "code",
   "execution_count": 28,
   "metadata": {},
   "outputs": [],
   "source": [
    "for i in range(len(total)):\n",
    "    total[i].to_csv(symbols2[i]+\"technicals.csv\")"
   ]
  },
  {
   "cell_type": "code",
   "execution_count": 25,
   "metadata": {},
   "outputs": [
    {
     "name": "stdout",
     "output_type": "stream",
     "text": [
      "V\n"
     ]
    }
   ],
   "source": [
    "df_merge = pd.merge(left=total[0], left_on=symbols2[0]+'_time',\n",
    "         right=total[1], right_on=symbols2[1]+'_time')\n",
    "\n",
    "for i in range(2,len(symbols2)):\n",
    "    try:\n",
    "        df_concat = pd.concat([df_concat, total[i]], axis=1)\n",
    "        df_concat.to_csv(\"00 short merged.csv\")\n",
    "    except:\n",
    "        print(symbols2[i])\n",
    "        break"
   ]
  },
  {
   "cell_type": "code",
   "execution_count": null,
   "metadata": {},
   "outputs": [],
   "source": []
  }
 ],
 "metadata": {
  "kernelspec": {
   "display_name": "Python 3",
   "language": "python",
   "name": "python3"
  },
  "language_info": {
   "codemirror_mode": {
    "name": "ipython",
    "version": 3
   },
   "file_extension": ".py",
   "mimetype": "text/x-python",
   "name": "python",
   "nbconvert_exporter": "python",
   "pygments_lexer": "ipython3",
   "version": "3.7.4"
  }
 },
 "nbformat": 4,
 "nbformat_minor": 2
}
