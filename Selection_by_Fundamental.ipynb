{
 "cells": [
  {
   "cell_type": "code",
   "execution_count": 1,
   "metadata": {},
   "outputs": [],
   "source": [
    "## Load libraries\n",
    "import pandas as pd\n",
    "import numpy as np\n",
    "import os\n",
    "Main_Path = os.getcwd()"
   ]
  },
  {
   "cell_type": "code",
   "execution_count": 2,
   "metadata": {},
   "outputs": [],
   "source": [
    "def Filter(file_name, period, ls_type):\n",
    "    '''\n",
    "    file_name: the name of the fundamental file\n",
    "    period: length of the period used to do the selection (in months)\n",
    "    This function would score the input stock\n",
    "    Since we are trade in days, we would consider high daily trade volume (10M)\n",
    "    with relatively large market capital (10B)\n",
    "    '''\n",
    "    fundamental = pd.read_csv(file_name, index_col=0).astype(float) ## Read data from file\n",
    "    fundamental[fundamental > 1e+20] = 0 ## Set extrame large value as 0\n",
    "    fundamental[fundamental < -1e+20] = 0 ## Set extrame small value as 0\n",
    "    score = fundamental.rolling(period*30).mean().dropna()\n",
    "    score['Volume'] = score['Volume'][score['Volume'] > 5000000] / 5000000.0\n",
    "    score['Total Market Value'] = score['Total Market Value'][score['Total Market Value'] > 10000000000] / 10000000000.0\n",
    "    if ls_type == 'long':\n",
    "        score['P/E'] = score['P/E'][score['P/E'] > fundamental.loc[score.index]['P/E']]\n",
    "        score['P/B'] = score['P/B'][score['P/B'] > fundamental.loc[score.index]['P/B']]\n",
    "    else:\n",
    "        score['P/E'] = score['P/E'][score['P/E'] < fundamental.loc[score.index]['P/E']]\n",
    "        score['P/B'] = score['P/B'][score['P/B'] < fundamental.loc[score.index]['P/B']]\n",
    "    score = score.fillna(0)\n",
    "    score = 0.25*score['Volume'] + 0.2*score['Total Market Value'] + 0.3*score['P/E'] + 0.25*score['P/B']\n",
    "    return score"
   ]
  },
  {
   "cell_type": "code",
   "execution_count": 3,
   "metadata": {},
   "outputs": [],
   "source": [
    "## Load fundamental data and got 15 long stocks\n",
    "path = Main_Path + '\\\\Fundamentals'\n",
    "os.chdir(path)\n",
    "for root, dirs, files in os.walk(path): ## Get all files under Fundamentals file\n",
    "    fdmtl = files\n",
    "Score_Map = pd.DataFrame(columns=[str(x).split('.')[0] for x in fdmtl])\n",
    "for fd in fdmtl:\n",
    "    Score_Map[fd.split('.')[0]] = Filter(fd, 1, 'long')\n",
    "Score_Map_Rank = Score_Map.rank(axis=1, ascending=False)\n",
    "Score_Map_Rank = Score_Map_Rank[Score_Map_Rank <= 15] ## If want to more stocks change 30, 31(next line) to any number\n",
    "Chosen = pd.DataFrame(columns=[i for i in range(1, 16)], index=Score_Map_Rank.index)\n",
    "for day in Score_Map_Rank.index:\n",
    "    Chosen.loc[day] = Score_Map_Rank.loc[day].dropna().sort_values().index\n",
    "os.chdir(Main_Path)\n",
    "Chosen.to_csv('long_Chosen.csv')"
   ]
  },
  {
   "cell_type": "code",
   "execution_count": 4,
   "metadata": {},
   "outputs": [],
   "source": [
    "## Load fundamental data and got 15 long stocks\n",
    "path = Main_Path + '\\\\Fundamentals'\n",
    "os.chdir(path)\n",
    "for root, dirs, files in os.walk(path): ## Get all files under Fundamentals file\n",
    "    fdmtl = files\n",
    "Score_Map = pd.DataFrame(columns=[str(x).split('.')[0] for x in fdmtl])\n",
    "for fd in fdmtl:\n",
    "    Score_Map[fd.split('.')[0]] = Filter(fd, 1, 'short')\n",
    "Score_Map_Rank = Score_Map.rank(axis=1, ascending=False)\n",
    "Score_Map_Rank = Score_Map_Rank[Score_Map_Rank <= 15] ## If want to more stocks change 30, 31(next line) to any number\n",
    "Chosen = pd.DataFrame(columns=[i for i in range(1, 16)], index=Score_Map_Rank.index)\n",
    "for day in Score_Map_Rank.index:\n",
    "    Chosen.loc[day] = Score_Map_Rank.loc[day].dropna().sort_values().index\n",
    "os.chdir(Main_Path)\n",
    "Chosen.to_csv('short_Chosen.csv')"
   ]
  },
  {
   "cell_type": "code",
   "execution_count": 8,
   "metadata": {},
   "outputs": [],
   "source": [
    "## Combine both files\n",
    "long = pd.read_csv('long_Chosen.csv', index_col=0)\n",
    "short = pd.read_csv('short_Chosen.csv', index_col=0)\n",
    "Chosen = pd.concat([long, short], axis=1)\n",
    "Chosen.columns = [x for x in range(1, 31)]\n",
    "Chosen.to_csv('30_Chosen.csv')"
   ]
  },
  {
   "cell_type": "code",
   "execution_count": null,
   "metadata": {},
   "outputs": [],
   "source": []
  }
 ],
 "metadata": {
  "kernelspec": {
   "display_name": "Python 3",
   "language": "python",
   "name": "python3"
  },
  "language_info": {
   "codemirror_mode": {
    "name": "ipython",
    "version": 3
   },
   "file_extension": ".py",
   "mimetype": "text/x-python",
   "name": "python",
   "nbconvert_exporter": "python",
   "pygments_lexer": "ipython3",
   "version": "3.8.3"
  }
 },
 "nbformat": 4,
 "nbformat_minor": 4
}
